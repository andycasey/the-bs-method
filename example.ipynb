{
 "cells": [
  {
   "cell_type": "code",
   "execution_count": 1,
   "metadata": {
    "collapsed": true
   },
   "outputs": [],
   "source": [
    "import matplotlib.pyplot as plt\n",
    "import matplotlib.gridspec as gridspec\n",
    "import numpy as np\n",
    "from collections import OrderedDict\n",
    "from inspect import getfullargspec\n",
    "from scipy import (optimize as op, special, stats)\n",
    "\n",
    "%matplotlib inline"
   ]
  },
  {
   "cell_type": "code",
   "execution_count": 49,
   "metadata": {},
   "outputs": [],
   "source": [
    "from spectrum import Spectrum1D\n",
    "wavelength, window = (6141.71, 10)\n",
    "\n",
    "solar_spectrum = Spectrum1D.read(\"data/spectra/0_sun_n.fits\")\n",
    "\n",
    "# Take some data around the line.\n",
    "idx = np.searchsorted(solar_spectrum.dispersion, \n",
    "                      [wavelength - window, wavelength + window])\n",
    "\n",
    "x = solar_spectrum.dispersion[idx[0]:idx[1]]\n",
    "y = solar_spectrum.flux[idx[0]:idx[1]]\n",
    "y_err = np.abs(np.random.normal(0, 1e-3, size=y.size))"
   ]
  },
  {
   "cell_type": "code",
   "execution_count": 50,
   "metadata": {
    "collapsed": true
   },
   "outputs": [],
   "source": [
    "class Model(object):\n",
    "\n",
    "    def __init__(self, wavelength, wavelength_tolerance=0.1, continuum_order=-1,\n",
    "                 profile_type=\"gaussian\", background_model_type=\"lognormal\",\n",
    "                 require_absorption_profile_as_foreground=False, **kwargs):\n",
    "\n",
    "        profiles = dict(gaussian=gaussian, voigt=voigt)\n",
    "        background_models = dict(lognormal=lognormal_lpdf, powerlaw=powerlaw_lpdf)\n",
    "\n",
    "        try:\n",
    "            self.profile = profiles[profile_type]\n",
    "\n",
    "        except KeyError:\n",
    "            raise ValueError(f\"profile_type must be one of {profiles.keys()}\")\n",
    "\n",
    "        try:\n",
    "            self.background_model = background_models[background_model_type]\n",
    "\n",
    "        except KeyError:\n",
    "            raise ValueError(f\"background_model_type must be one of {background_models.keys()}\")\n",
    "\n",
    "        self.parameter_names = [\"Q\", \"ln_intrinsic_scatter\"] \\\n",
    "                             + getfullargspec(self.profile).args[1:] \\\n",
    "                             + getfullargspec(self.background_model).args[1:] \\\n",
    "                             + [\"continuum_coefficients\"]\n",
    "        self.continuum_order = continuum_order\n",
    "        self.require_absorption_profile_as_foreground = require_absorption_profile_as_foreground\n",
    "\n",
    "        self.parameter_bounds = dict(Q=[0, 1],\n",
    "                                     amplitude=[0, 1],\n",
    "                                     sigma=[0, np.inf],\n",
    "                                     fwhm=[0, np.inf],\n",
    "                                     x0=[\n",
    "                                        wavelength - wavelength_tolerance,\n",
    "                                        wavelength + wavelength_tolerance\n",
    "                                     ],\n",
    "                                     shape=[0, np.inf],\n",
    "                                     lognormal_shape=[1, 100],\n",
    "                                     ln_intrinsic_scatter=[-30, -5])\n",
    "\n",
    "        return None\n",
    "\n",
    "\n",
    "    def pack(self, *parameters):\n",
    "        packed = OrderedDict()\n",
    "        for name, value in zip(self.parameter_names, parameters):\n",
    "            packed[name] = value\n",
    "        \n",
    "        last_parameter = self.parameter_names[-1]\n",
    "        P, N = (len(parameters), len(self.parameter_names))\n",
    "        if P >= N:\n",
    "            # Pack remaining into the last parameter name\n",
    "            packed[last_parameter] = parameters[N-1:]\n",
    "\n",
    "        packed.setdefault(last_parameter, [])\n",
    "        packed[last_parameter] = np.atleast_1d(packed[last_parameter])\n",
    "\n",
    "        return packed\n",
    "\n",
    "\n",
    "    def unpack(self, parameters):\n",
    "        return np.hstack([parameters[k] for k in self.parameter_names])\n",
    "\n",
    "\n",
    "    def ln_prior(self, x, parameters, full_output=False, **kwargs):\n",
    "\n",
    "        theta = self.pack(*parameters)\n",
    "        for k, (lower, upper) in self.parameter_bounds.items():\n",
    "            if k in theta and not (upper >= theta[k] >= lower):\n",
    "                return -np.inf if not full_output \\\n",
    "                               else (-np.inf, k, theta[k], lower, upper)\n",
    "\n",
    "        c = self.continuum(x, **theta)\n",
    "        if np.any(c < 0):\n",
    "            return -np.inf if not full_output \\\n",
    "                           else (-np.inf, \"continuum\", c, 0, np.inf)\n",
    "\n",
    "        return 0\n",
    "\n",
    "\n",
    "    def continuum(self, x, continuum_coefficients, **kwargs):\n",
    "        if not len(continuum_coefficients):\n",
    "            return np.ones_like(x)\n",
    "        return np.polyval(continuum_coefficients, x)\n",
    "\n",
    "\n",
    "    def __call__(self, x, parameters, **kwargs):\n",
    "        theta = self.pack(*parameters)\n",
    "        return self.continuum(x, **theta) * (1 - self.profile(x, **theta))\n",
    "\n",
    "\n",
    "    def ln_likelihood(self, x, y, y_err, parameters, **kwargs):\n",
    "\n",
    "        theta = self.pack(*parameters)\n",
    "        c = self.continuum(x, **theta)\n",
    "\n",
    "        foreground = c * (1 - self.profile(x, **theta))\n",
    "\n",
    "        Q = theta[\"Q\"]\n",
    "        # TODO: use intrinsic scatter?\n",
    "        #s = np.sqrt(y_err**2 + np.exp(2 * theta[\"ln_intrinsic_scatter\"]))\n",
    "        s = y_err\n",
    "        foreground_ll = np.log(Q) + stats.norm.logpdf(y, foreground, s)\n",
    "        background_ll = np.log(1 - Q) + self.background_model(y/foreground, **theta)\n",
    "\n",
    "        if self.require_absorption_profile_as_foreground:\n",
    "            min_ll = np.nanmin(np.hstack([foreground_ll, background_ll]))\n",
    "            in_line = np.abs(x - theta[\"x0\"]) <= (2 * theta.get(\"sigma\", theta.get(\"fwhm\")))\n",
    "            background_ll[in_line] = min_ll\n",
    "\n",
    "        ll = np.sum(np.logaddexp(foreground_ll, background_ll))\n",
    "        if kwargs.get(\"full_output\", False):\n",
    "            return (ll, foreground_ll, background_ll, foreground, c)\n",
    "\n",
    "        return ll\n",
    "\n",
    "\n",
    "    def initial_guess(self, x, y, y_err):\n",
    "\n",
    "        if self.continuum_order >= 0:\n",
    "            # TODO: thinko\n",
    "            #continuum_coefficients = np.polyfit(x, y, self.continuum_order)\n",
    "            continuum_coefficients = np.hstack([np.median(y), np.zeros(self.continuum_order)])[::-1]\n",
    "        else:\n",
    "            continuum_coefficients = []\n",
    "\n",
    "        return self.unpack(dict(Q=1.0,\n",
    "                                x0=np.mean(self.parameter_bounds[\"x0\"]),\n",
    "                                amplitude=1 - y[int(y.size/2)],\n",
    "                                sigma=0.05,\n",
    "                                ln_intrinsic_scatter=-9,\n",
    "                                powerlaw_shape=5.5,\n",
    "                                fwhm=2.35 * 0.05,\n",
    "                                shape=0.05,\n",
    "                                lognormal_shape=np.mean(self.parameter_bounds[\"lognormal_shape\"]),\n",
    "                                continuum_coefficients=continuum_coefficients))\n",
    "\n",
    "\n",
    "    def ln_probability(self, x, y, y_err, parameters, **kwargs):\n",
    "        lp = self.ln_prior(x, parameters, **kwargs)\n",
    "        if not np.isfinite(lp): return lp\n",
    "\n",
    "        return lp + self.ln_likelihood(x, y, y_err, parameters, **kwargs)\n",
    "\n",
    "    \n",
    "    def p_outlier(self, x, y, y_err, parameters, **kwargs):\n",
    "        ll, f_ll, b_ll, f, c = self.ln_likelihood(x, y, y_err, parameters, \n",
    "                                                  full_output=True)\n",
    "        return np.exp(f_ll - np.logaddexp(f_ll, b_ll))\n",
    "\n",
    "\n",
    "\n",
    "\n",
    "def powerlaw_lpdf(y, powerlaw_shape, **kwargs):\n",
    "    return stats.powerlaw.logpdf(y, powerlaw_shape)\n",
    "\n",
    "def lognormal_lpdf(y, lognormal_shape, **kwargs):\n",
    "    return stats.lognorm.logpdf(1 - y, lognormal_shape)\n",
    "\n",
    "def gaussian(x, x0, amplitude, sigma, **kwargs):\n",
    "    return amplitude * np.exp(-(x - x0)**2 / (2.0 * sigma**2))\n",
    "\n",
    "\n",
    "def voigt(x, x0, amplitude, fwhm, shape, **kwargs):\n",
    "    N = np.atleast_1d(x).size    \n",
    "    y = 1 / special.wofz(np.zeros(N) + 1j * np.sqrt(np.log(2.0)) * shape).real\n",
    "    return y * amplitude * special.wofz(2*np.sqrt(np.log(2.0)) * (x - x0)/fwhm \\\n",
    "             + 1j * np.sqrt(np.log(2.0))*shape).real\n"
   ]
  },
  {
   "cell_type": "code",
   "execution_count": 51,
   "metadata": {},
   "outputs": [
    {
     "name": "stderr",
     "output_type": "stream",
     "text": [
      "/Users/arc/anaconda2/envs/py3/lib/python3.6/site-packages/ipykernel_launcher.py:99: RuntimeWarning: divide by zero encountered in log\n",
      "/Users/arc/anaconda2/envs/py3/lib/python3.6/site-packages/scipy/optimize/optimize.py:1934: RuntimeWarning: invalid value encountered in double_scalars\n",
      "  tmp2 = (x - v) * (fx - fw)\n",
      "/Users/arc/anaconda2/envs/py3/lib/python3.6/site-packages/scipy/optimize/optimize.py:1935: RuntimeWarning: invalid value encountered in double_scalars\n",
      "  p = (x - v) * tmp2 - (x - w) * tmp1\n"
     ]
    }
   ],
   "source": [
    "options = dict(wavelength=wavelength, \n",
    "               continuum_order=2,\n",
    "               profile_type=\"gaussian\", \n",
    "               background_model_type=\"lognormal\",\n",
    "               require_absorption_profile_as_foreground=False)\n",
    "\n",
    "model = Model(**options)\n",
    "\n",
    "p0 = model.initial_guess(x, y, y_err)\n",
    "nlp = lambda p: -model.ln_probability(x, y, y_err, p)\n",
    "\n",
    "p_opt = op.minimize(nlp, p0, method=\"Powell\")\n",
    "assert p_opt.success"
   ]
  },
  {
   "cell_type": "code",
   "execution_count": 52,
   "metadata": {},
   "outputs": [
    {
     "name": "stderr",
     "output_type": "stream",
     "text": [
      "/Users/arc/anaconda2/envs/py3/lib/python3.6/site-packages/scipy/optimize/optimize.py:1934: RuntimeWarning: invalid value encountered in double_scalars\n",
      "  tmp2 = (x - v) * (fx - fw)\n",
      "/Users/arc/anaconda2/envs/py3/lib/python3.6/site-packages/scipy/optimize/optimize.py:1935: RuntimeWarning: invalid value encountered in double_scalars\n",
      "  p = (x - v) * tmp2 - (x - w) * tmp1\n"
     ]
    }
   ],
   "source": [
    "# Re-run without absorption profile constraint (sometimes useful for voigt profiles)\n",
    "model = Model(**{**options, **dict(require_absorption_profile_as_foreground=False)})\n",
    "\n",
    "nlp = lambda p: -model.ln_probability(x, y, y_err, p)\n",
    "\n",
    "p_opt = op.minimize(nlp, p_opt.x, method=\"Powell\")\n",
    "assert p_opt.success\n"
   ]
  },
  {
   "cell_type": "code",
   "execution_count": 53,
   "metadata": {},
   "outputs": [
    {
     "name": "stdout",
     "output_type": "stream",
     "text": [
      "Q: 0.003347250568570689\n",
      "ln_intrinsic_scatter: -6.412071038407198\n",
      "x0: 6141.713946320487\n",
      "amplitude: 0.7081729338573199\n",
      "sigma: 0.05912186206762311\n",
      "lognormal_shape: 4.247285387181406\n",
      "continuum_coefficients: [ 3.33963141e-10 -1.54861837e-08  9.89834569e-01]\n"
     ]
    }
   ],
   "source": [
    "theta_opt = model.pack(*p_opt.x)\n",
    "for k, v in theta_opt.items():\n",
    "    print(f\"{k}: {v}\")"
   ]
  },
  {
   "cell_type": "code",
   "execution_count": 54,
   "metadata": {},
   "outputs": [],
   "source": [
    "#model.pack(*p0)"
   ]
  },
  {
   "cell_type": "code",
   "execution_count": 55,
   "metadata": {},
   "outputs": [
    {
     "name": "stdout",
     "output_type": "stream",
     "text": [
      "   direc: array([[1., 0., 0., 0., 0., 0., 0., 0., 0.],\n",
      "       [0., 1., 0., 0., 0., 0., 0., 0., 0.],\n",
      "       [0., 0., 1., 0., 0., 0., 0., 0., 0.],\n",
      "       [0., 0., 0., 1., 0., 0., 0., 0., 0.],\n",
      "       [0., 0., 0., 0., 1., 0., 0., 0., 0.],\n",
      "       [0., 0., 0., 0., 0., 1., 0., 0., 0.],\n",
      "       [0., 0., 0., 0., 0., 0., 1., 0., 0.],\n",
      "       [0., 0., 0., 0., 0., 0., 0., 1., 0.],\n",
      "       [0., 0., 0., 0., 0., 0., 0., 0., 1.]])\n",
      "     fun: -2330.3383351361963\n",
      " message: 'Optimization terminated successfully.'\n",
      "    nfev: 392\n",
      "     nit: 1\n",
      "  status: 0\n",
      " success: True\n",
      "       x: array([ 3.34725057e-03, -6.41207104e+00,  6.14171395e+03,  7.08172934e-01,\n",
      "        5.91218621e-02,  4.24728539e+00,  3.33963141e-10, -1.54861837e-08,\n",
      "        9.89834569e-01])\n"
     ]
    }
   ],
   "source": [
    "print(p_opt)"
   ]
  },
  {
   "cell_type": "code",
   "execution_count": 56,
   "metadata": {},
   "outputs": [
    {
     "data": {
      "text/plain": [
       "(6131.7199903388555, 6151.7002533304585)"
      ]
     },
     "execution_count": 56,
     "metadata": {},
     "output_type": "execute_result"
    },
    {
     "data": {
      "image/png": "[encoded data removed]",
      "text/plain": [
       "<Figure size 1296x432 with 2 Axes>"
      ]
     },
     "metadata": {},
     "output_type": "display_data"
    }
   ],
   "source": [
    "p = model.p_outlier(x, y, y_err, p_opt.x)\n",
    "\n",
    "fig = plt.figure(figsize=(18, 6))\n",
    "gs = gridspec.GridSpec(2, 1, height_ratios=[1, 4], figure=fig)\n",
    "\n",
    "ax_resid = plt.subplot(gs[0])\n",
    "ax_data = plt.subplot(gs[1])\n",
    "\n",
    "ax_resid.axhline(0, c=\"#666666\", linestyle=\":\", zorder=-1)\n",
    "ax_resid.plot(x, y - model(x, p_opt.x), c=\"tab:blue\")\n",
    "ax_resid.set_ylim(-0.05, 0.05)\n",
    "ax_resid.set_xlim(x[0], x[-1])\n",
    "ax_resid.set_xticklabels([])\n",
    "\n",
    "ax_data.plot(x, y, c=\"k\")\n",
    "#ax_data.plot(x, model(x, p0), c=\"tab:green\")\n",
    "ax_data.plot(x, model(x, p_opt.x), c=\"tab:blue\")\n",
    "ax_data.plot(x, p, c=\"tab:red\", zorder=-1, lw=2, alpha=0.3)\n",
    "ax_data.set_xlim(x[0], x[-1])\n",
    "#ax_data.set_ylim(0.8, 1.1)"
   ]
  },
  {
   "cell_type": "code",
   "execution_count": null,
   "metadata": {
    "collapsed": true
   },
   "outputs": [],
   "source": []
  },
  {
   "cell_type": "code",
   "execution_count": null,
   "metadata": {
    "collapsed": true
   },
   "outputs": [],
   "source": []
  },
  {
   "cell_type": "code",
   "execution_count": null,
   "metadata": {
    "collapsed": true
   },
   "outputs": [],
   "source": []
  },
  {
   "cell_type": "code",
   "execution_count": null,
   "metadata": {
    "collapsed": true
   },
   "outputs": [],
   "source": []
  },
  {
   "cell_type": "code",
   "execution_count": null,
   "metadata": {
    "collapsed": true
   },
   "outputs": [],
   "source": []
  },
  {
   "cell_type": "code",
   "execution_count": null,
   "metadata": {
    "collapsed": true
   },
   "outputs": [],
   "source": []
  },
  {
   "cell_type": "code",
   "execution_count": null,
   "metadata": {
    "collapsed": true
   },
   "outputs": [],
   "source": []
  },
  {
   "cell_type": "code",
   "execution_count": null,
   "metadata": {
    "collapsed": true
   },
   "outputs": [],
   "source": []
  }
 ],
 "metadata": {
  "kernelspec": {
   "display_name": "Python (py3)",
   "language": "python",
   "name": "py3"
  },
  "language_info": {
   "codemirror_mode": {
    "name": "ipython",
    "version": 3
   },
   "file_extension": ".py",
   "mimetype": "text/x-python",
   "name": "python",
   "nbconvert_exporter": "python",
   "pygments_lexer": "ipython3",
   "version": "3.6.1"
  }
 },
 "nbformat": 4,
 "nbformat_minor": 2
}
